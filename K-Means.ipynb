{
 "cells": [
  {
   "cell_type": "markdown",
   "metadata": {},
   "source": [
    "In KMeans clustering, we group unsupervised data into 'K' groups, and therefore the name 'K' Means. Generally, we can choose the value on our own or it can also be chosen by a method called 'elbow method'. For eg., in case of samples of T-shirts of different sizes, we can group them into 3 categories - Small, Medium, and Large. \n",
    "\n",
    "These are the steps of clustering process:\n",
    "\n",
    "1. Initialize K randomly chosen centroids to start with. \n",
    "2. Then, assign centroids to each of the points according to the minimum Euclidean distance from each of the centroids. This process groups the centroids  into K groups.\n",
    "3. Now, determine the mean of each of the groups. Those means will serve as the new centroids.\n",
    "4. Repeat the process 2 and 3 till the centroids don't change their positions, i.e., till convergence.\n",
    "5. And, you are done with KMeans clustering. "
   ]
  },
  {
   "cell_type": "code",
   "execution_count": 2,
   "metadata": {},
   "outputs": [],
   "source": [
    "#importing the libraries\n",
    "import numpy as np\n",
    "import matplotlib.pyplot as plt\n",
    "import operator \n",
    "%matplotlib inline"
   ]
  },
  {
   "cell_type": "code",
   "execution_count": 3,
   "metadata": {},
   "outputs": [],
   "source": [
    "#this is our data\n",
    "x = np.array([[9, 25],[68, 88],[80, 49],[11, 95],[53, 99],[54, 67],[99, 15],[35, 25],[16, 61],[59, 17],[10, 94],[87, 3],[28, 5],[32, 2],[14, 84],[5, 92],[60, 68],[8, 50],[48, 66],[62, 15],[56, 72],[81, 3],[95, 20],[99, 64],[54, 28],[57, 31],[49, 48],[40, 39],[45, 19],[65, 57],[35, 54],[75, 18],[73, 14],[31, 18],[54, 69],[51, 92],[92, 84],[54, 79],[1, 14],[58, 77],[4, 71],[4, 85],[80, 11],[88, 61],[4, 49],[53, 44],[37, 6],[72, 39],[87, 95],[99, 43]])"
   ]
  },
  {
   "cell_type": "code",
   "execution_count": 5,
   "metadata": {},
   "outputs": [
    {
     "data": {
      "image/png": "[encoded data removed]",
      "text/plain": [
       "<Figure size 432x288 with 1 Axes>"
      ]
     },
     "metadata": {},
     "output_type": "display_data"
    }
   ],
   "source": [
    "#plotting the dataset\n",
    "plt.scatter(x[:,0], x[:,1])\n",
    "plt.xlabel('x-axis')\n",
    "plt.ylabel('y-axis')\n",
    "plt.title('Dataset')\n",
    "plt.show()"
   ]
  },
  {
   "cell_type": "code",
   "execution_count": 6,
   "metadata": {},
   "outputs": [],
   "source": [
    "class KMeans:\n",
    "    def __init__(self, data, n_centroids):\n",
    "        \n",
    "        self.n_centroids = n_centroids \n",
    "        self.data = data\n",
    "        self.centroids = []\n",
    "        self.col_dict = {0:'red', 1:'blue', 2:'green', 3:'yellow', 4:'pink', 5:'black'}\n",
    "        \n",
    "   \n",
    "    def closest_centroid(self): #returns a dictionary containing the points \n",
    "        #as keys and closest centroids assigned to them as values\n",
    "        centroid_dict = {}\n",
    "        closest_dict = {}\n",
    "        \n",
    "        #looping over the points in dataset\n",
    "        for point in self.data:\n",
    "            \n",
    "            #we are comparing each point with the centroids and storing their\n",
    "            #distaces\n",
    "            for i, c in enumerate(self.centroids):\n",
    "                centroid_dict[i] = np.linalg.norm(c-point)\n",
    "            \n",
    "            #closest stores the centroid closest to that point \n",
    "            closest = min(centroid_dict.items(), key=operator.itemgetter(1))[0]\n",
    "            \n",
    "            #finally, for each point we are storing the corresponding centroids\n",
    "            closest_dict[tuple(point)] = closest\n",
    "            \n",
    "        return closest_dict\n",
    "    \n",
    "    \n",
    "    def update_centroid(self): #computes the mean of points grouped according \n",
    "        #to the 'closest_centroid' function and finally returns the centroid \n",
    "        #determined by the mean as well as the closest_dict originally returned\n",
    "        #by closest_centroid \n",
    "        \n",
    "        #calling the functon 'closest_centroid' and storing the closest_dict \n",
    "        #returned by the function\n",
    "        closest_dict = self.closest_centroid()\n",
    "        centroid_list = []\n",
    "    \n",
    "        for i in range(self.n_centroids):\n",
    "            temp = []\n",
    "            \n",
    "            #we are looping over the closest_dict dictionary and storing the \n",
    "            #points assigned to each centroid. In the centroid_list we will\n",
    "            #be updating the mean of those points \n",
    "            for key, value in closest_dict.items():\n",
    "                if value==i:\n",
    "                    temp.append(key)\n",
    "            mean = np.mean(temp, axis=0)\n",
    "            centroid_list.append(mean)\n",
    "            \n",
    "        return centroid_list, closest_dict\n",
    "    \n",
    "    \n",
    "    def fit(self):\n",
    "        \n",
    "        iteration = 0\n",
    "        \n",
    "        #random centroids created\n",
    "        for _ in range(self.n_centroids):\n",
    "            self.centroids.append(np.array([np.random.randint(min(self.data[:,0]), max(self.data[:,0])), \n",
    "                              np.random.randint(min(self.data[:,0]), max(self.data[:,0]))]))\n",
    "                             \n",
    "        current_centroids = self.centroids\n",
    "        \n",
    "        #initial_centroids stores the centroids randomly created in the beginning\n",
    "        #these centroids will be shown with 'star' marker in black to show the\n",
    "        #difference in position of initial centroids and final centroids \n",
    "        self.initial_centroids = np.copy(self.centroids)\n",
    "        \n",
    "        while True:\n",
    "            \n",
    "            self.centroids, _ = self.update_centroid()\n",
    "            \n",
    "            #checks if the current_centroid and self.centroids are equal\n",
    "            #if equal, then the loop terminates \n",
    "            if np.array_equal(self.centroids, current_centroids) == True:\n",
    "                print('Finished with {} iterations'.format(iteration))\n",
    "                return \n",
    "            \n",
    "            #if not equal, we will increment iteration by one and again the\n",
    "            #current_centroids is updated with the value of self.centroids \n",
    "            iteration +=1\n",
    "            \n",
    "            current_centroids = self.centroids \n",
    "        \n",
    "        \n",
    "                                  \n",
    "            \n",
    "    def show(self):\n",
    "        \n",
    "        closest_dict_values = []\n",
    "        _, closest_dict = self.update_centroid()\n",
    "        \n",
    "        #we are appending a list of the centroids which are indicated simply by\n",
    "        #whole numbers. This list will be useful to determine the colors of the\n",
    "        #points according to the assigned centroids \n",
    "        for k, v in closest_dict.items():\n",
    "            closest_dict_values.append(v)\n",
    "            \n",
    "        #we are plotting the datapoints grouped according to the assigned centroids\n",
    "        for i in range(len(self.data)):\n",
    "            plt.scatter(self.data[i][0], self.data[i][1], \n",
    "                        color=self.col_dict[closest_dict_values[i]])\n",
    "        \n",
    "        #here we are plotting the final centroids\n",
    "        for i in range(len(self.centroids)):\n",
    "            plt.scatter(self.centroids[i][0], self.centroids[i][1], color=self.col_dict[i], \n",
    "                        marker = 'x', s=150)\n",
    "            \n",
    "        #these are the initial centroids. From here, we progressed to the final\n",
    "        #centroids. These are indicated by black colors avoid confusion\n",
    "        for i in range(len(self.initial_centroids)):\n",
    "            plt.scatter(self.initial_centroids[i][0], self.initial_centroids[i][1], color='black', \n",
    "                        marker = '*', s=150)\n",
    "            \n",
    "        plt.xlabel('x-axis')\n",
    "        plt.ylabel('y-axis')\n",
    "        plt.title('K-Means clustering')\n",
    "        \n",
    "        plt.show()\n",
    "    \n",
    "            \n",
    "     #Yieppee...We are done!"
   ]
  },
  {
   "cell_type": "code",
   "execution_count": 7,
   "metadata": {},
   "outputs": [
    {
     "name": "stdout",
     "output_type": "stream",
     "text": [
      "Finished with 4 iterations\n"
     ]
    },
    {
     "data": {
      "image/png": "[encoded data removed]",
      "text/plain": [
       "<Figure size 432x288 with 1 Axes>"
      ]
     },
     "metadata": {},
     "output_type": "display_data"
    }
   ],
   "source": [
    "np.random.seed(100) #Just to check the randomly chosen centroids don't change\n",
    "                    #eveytime\n",
    "    \n",
    "#calling 'kmeans' object of KMeans class\n",
    "kmeans = KMeans(x, 5)\n",
    "kmeans.fit()\n",
    "kmeans.show()\n"
   ]
  },
  {
   "cell_type": "code",
   "execution_count": null,
   "metadata": {},
   "outputs": [],
   "source": []
  }
 ],
 "metadata": {
  "kernelspec": {
   "display_name": "Python 3",
   "language": "python",
   "name": "python3"
  },
  "language_info": {
   "codemirror_mode": {
    "name": "ipython",
    "version": 3
   },
   "file_extension": ".py",
   "mimetype": "text/x-python",
   "name": "python",
   "nbconvert_exporter": "python",
   "pygments_lexer": "ipython3",
   "version": "3.6.5"
  }
 },
 "nbformat": 4,
 "nbformat_minor": 2
}
